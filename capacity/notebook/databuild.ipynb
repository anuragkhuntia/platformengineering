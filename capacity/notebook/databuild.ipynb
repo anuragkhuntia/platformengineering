{
 "cells": [
  {
   "cell_type": "code",
   "execution_count": 13,
   "id": "a213b0fb-de78-4d01-880b-cbf76e042ee4",
   "metadata": {},
   "outputs": [
    {
     "name": "stdout",
     "output_type": "stream",
     "text": [
      "                    ds     y  cap\n",
      "0  13/05/2024 00:00:00  6.61  100\n",
      "1  13/05/2024 00:00:05  6.66  100\n",
      "2  13/05/2024 00:00:10  6.66  100\n",
      "3  13/05/2024 00:00:15  6.41  100\n",
      "4  13/05/2024 00:00:20  6.41  100\n"
     ]
    }
   ],
   "source": [
    "#requirements\n",
    "#pip3 install pandas numpy prophet"
   ]
  },
  {
   "cell_type": "code",
   "execution_count": 1,
   "id": "e744dc0f-cba8-4209-ab3b-200e0d17aff1",
   "metadata": {},
   "outputs": [],
   "source": [
    "import pandas as pd\n",
    "import numpy as np"
   ]
  },
  {
   "cell_type": "code",
   "execution_count": 2,
   "id": "6739889d-e4cc-4dff-9cb4-a5527a4b01f5",
   "metadata": {},
   "outputs": [],
   "source": [
    "df1 = pd.read_csv('../data/raw/appnode1/node_load/2024-05-13 00:00:00_node_load1_instance1')\n",
    "df2 = pd.read_csv('../data/raw/appnode1/node_load/2024-05-14 00:00:00_node_load1_instance1')\n",
    "df3 = pd.read_csv('../data/raw/appnode1/node_load/2024-05-15 00:00:00_node_load1_instance1')\n",
    "df4 = pd.read_csv('../data/raw/appnode1/node_load/2024-05-16 00:00:00_node_load1_instance1')\n",
    "df5 = pd.read_csv('../data/raw/appnode1/node_load/2024-05-17 00:00:00_node_load1_instance1')\n",
    "df6 = pd.read_csv('../data/raw/appnode1/node_load/2024-05-18 00:00:00_node_load1_instance1')\n",
    "df7 = pd.read_csv('../data/raw/appnode1/node_load/2024-05-19 00:00:00_node_load1_instance1')\n",
    "df8 = pd.read_csv('../data/raw/appnode1/node_load/2024-05-20 00:00:00_node_load1_instance1')\n",
    "df9 = pd.read_csv('../data/raw/appnode1/node_load/2024-05-21 00:00:00_node_load1_instance1')\n",
    "df10 = pd.read_csv('../data/raw/appnode1/node_load/2024-05-22 00:00:00_node_load1_instance1')\n",
    "df11 = pd.read_csv('../data/raw/appnode1/node_load/2024-05-23 00:00:00_node_load1_instance1')\n",
    "df12 = pd.read_csv('../data/raw/appnode1/node_load/2024-05-24 00:00:00_node_load1_instance1')\n",
    "df13 = pd.read_csv('../data/raw/appnode1/node_load/2024-05-25 00:00:00_node_load1_instance1')\n",
    "df14 = pd.read_csv('../data/raw/appnode1/node_load/2024-05-26 00:00:00_node_load1_instance1')\n",
    "df15 = pd.read_csv('../data/raw/appnode1/node_load/2024-05-27 00:00:00_node_load1_instance1')\n",
    "df16 = pd.read_csv('../data/raw/appnode1/node_load/2024-05-28 00:00:00_node_load1_instance1')\n",
    "df17 = pd.read_csv('../data/raw/appnode1/node_load/2024-05-29 00:00:00_node_load1_instance1')\n",
    "df18 = pd.read_csv('../data/raw/appnode1/node_load/2024-05-30 00:00:00_node_load1_instance1')\n",
    "df19 = pd.read_csv('../data/raw/appnode1/node_load/2024-05-31 00:00:00_node_load1_instance1')\n",
    "df20 = pd.read_csv('../data/raw/appnode1/node_load/2024-06-01 00:00:00_node_load1_instance1')\n",
    "df21 = pd.read_csv('../data/raw/appnode1/node_load/2024-06-02 00:00:00_node_load1_instance1')\n",
    "df22 = pd.read_csv('../data/raw/appnode1/node_load/2024-06-03 00:00:00_node_load1_instance1')\n",
    "df23 = pd.read_csv('../data/raw/appnode1/node_load/2024-06-04 00:00:00_node_load1_instance1')\n",
    "df24 = pd.read_csv('../data/raw/appnode1/node_load/2024-06-05 00:00:00_node_load1_instance1')\n",
    "df25 = pd.read_csv('../data/raw/appnode1/node_load/2024-06-06 00:00:00_node_load1_instance1')\n",
    "df26 = pd.read_csv('../data/raw/appnode1/node_load/2024-06-07 00:00:00_node_load1_instance1')\n",
    "df27 = pd.read_csv('../data/raw/appnode1/node_load/2024-06-08 00:00:00_node_load1_instance1')\n",
    "df28 = pd.read_csv('../data/raw/appnode1/node_load/2024-06-09 00:00:00_node_load1_instance1')\n",
    "df29 = pd.read_csv('../data/raw/appnode1/node_load/2024-06-10 00:00:00_node_load1_instance1')\n",
    "df30 = pd.read_csv('../data/raw/appnode1/node_load/2024-06-11 00:00:00_node_load1_instance1')\n",
    "df31 = pd.read_csv('../data/raw/appnode1/node_load/2024-06-12 00:00:00_node_load1_instance1')\n",
    "df32 = pd.read_csv('../data/raw/appnode1/node_load/2024-06-13 00:00:00_node_load1_instance1')"
   ]
  },
  {
   "cell_type": "code",
   "execution_count": 3,
   "id": "a67b8a81-2501-4973-81a8-3004f6cf0c16",
   "metadata": {},
   "outputs": [],
   "source": [
    "frames = [df1, df2, df3, df4, df5, df6, df7, df8, df9, df10, df11, df12, df13, df14, df15, df16, df17, df18, df19, df20, df21, df22, df23, df24, df25, df26, df27, df28, df29, df30, df31, df32]\n",
    "df = pd.concat(frames)\n",
    "df['cap'] = 100"
   ]
  },
  {
   "cell_type": "code",
   "execution_count": 4,
   "id": "64e48bff-1df1-413b-8b12-2c7ed505e45f",
   "metadata": {},
   "outputs": [
    {
     "name": "stdout",
     "output_type": "stream",
     "text": [
      "                    ds     y  cap\n",
      "0  13/05/2024 00:00:00  6.61  100\n",
      "1  13/05/2024 00:00:05  6.66  100\n",
      "2  13/05/2024 00:00:10  6.66  100\n",
      "3  13/05/2024 00:00:15  6.41  100\n",
      "4  13/05/2024 00:00:20  6.41  100\n",
      "                        ds     y  cap\n",
      "17276  13/06/2024 23:59:40  2.81  100\n",
      "17277  13/06/2024 23:59:45  2.91  100\n",
      "17278  13/06/2024 23:59:50  2.91  100\n",
      "17279  13/06/2024 23:59:55  2.84  100\n",
      "17280  14/06/2024 00:00:00  2.84  100\n",
      "                   y       cap\n",
      "count  552726.000000  552726.0\n",
      "mean        4.402680     100.0\n",
      "std         2.345591       0.0\n",
      "min         0.450000     100.0\n",
      "25%         2.250000     100.0\n",
      "50%         4.580000     100.0\n",
      "75%         5.960000     100.0\n",
      "max        25.630000     100.0\n",
      "ds      object\n",
      "y      float64\n",
      "cap      int64\n",
      "dtype: object\n",
      "552726\n"
     ]
    }
   ],
   "source": [
    "print(df.head(5))\n",
    "print(df.tail(5))\n",
    "print(df.describe())\n",
    "print(df.dtypes)\n",
    "print(len(df['ds']))"
   ]
  },
  {
   "cell_type": "code",
   "execution_count": 8,
   "id": "4483b328-293d-4089-a60e-a5f78dcf9963",
   "metadata": {},
   "outputs": [],
   "source": [
    "df['ds'] = pd.to_datetime(df['ds'], format='%d/%m/%Y %H:%M:%S')\n",
    "df['ds'] = df['ds'].dt.strftime('%d/%m/%Y %H:%M:%S')\n",
    "\n",
    "df.to_csv('../data/datasets/onemonth.csv', index=False)"
   ]
  },
  {
   "cell_type": "code",
   "execution_count": null,
   "id": "ebbf6645-ce98-4ba0-aee7-d67d1bc0c254",
   "metadata": {},
   "outputs": [],
   "source": []
  }
 ],
 "metadata": {
  "kernelspec": {
   "display_name": "Python 3 (ipykernel)",
   "language": "python",
   "name": "python3"
  },
  "language_info": {
   "codemirror_mode": {
    "name": "ipython",
    "version": 3
   },
   "file_extension": ".py",
   "mimetype": "text/x-python",
   "name": "python",
   "nbconvert_exporter": "python",
   "pygments_lexer": "ipython3",
   "version": "3.9.6"
  }
 },
 "nbformat": 4,
 "nbformat_minor": 5
}
